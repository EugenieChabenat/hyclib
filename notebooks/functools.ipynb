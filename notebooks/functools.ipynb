{
 "cells": [
  {
   "cell_type": "code",
   "execution_count": 1,
   "id": "dc794f74-32de-44ca-92f0-44aa376acc83",
   "metadata": {},
   "outputs": [],
   "source": [
    "%load_ext autoreload\n",
    "%autoreload 2"
   ]
  },
  {
   "cell_type": "code",
   "execution_count": 2,
   "id": "aa4982d1-ebfa-4556-9ffd-81e07fe73d28",
   "metadata": {},
   "outputs": [],
   "source": [
    "import hyclib as lib"
   ]
  },
  {
   "cell_type": "code",
   "execution_count": 3,
   "id": "17665acc-4d18-43ba-b45a-e6e8de005f2c",
   "metadata": {},
   "outputs": [
    {
     "name": "stderr",
     "output_type": "stream",
     "text": [
      "/tmp/ipykernel_24541/1462313178.py:5: DeprecationWarning: Call to deprecated function deprecated_func.\n",
      "  deprecated_func()\n"
     ]
    },
    {
     "data": {
      "text/plain": [
       "1"
      ]
     },
     "execution_count": 3,
     "metadata": {},
     "output_type": "execute_result"
    }
   ],
   "source": [
    "@utils.functools.deprecated\n",
    "def deprecated_func():\n",
    "    return 1\n",
    "\n",
    "deprecated_func()"
   ]
  },
  {
   "cell_type": "code",
   "execution_count": null,
   "id": "228a0f0d-8d82-43eb-b74e-4f777cf1ce32",
   "metadata": {},
   "outputs": [],
   "source": []
  }
 ],
 "metadata": {
  "kernelspec": {
   "display_name": "Python [conda env:.conda-utils]",
   "language": "python",
   "name": "conda-env-.conda-utils-py"
  },
  "language_info": {
   "codemirror_mode": {
    "name": "ipython",
    "version": 3
   },
   "file_extension": ".py",
   "mimetype": "text/x-python",
   "name": "python",
   "nbconvert_exporter": "python",
   "pygments_lexer": "ipython3",
   "version": "3.9.7"
  }
 },
 "nbformat": 4,
 "nbformat_minor": 5
}
