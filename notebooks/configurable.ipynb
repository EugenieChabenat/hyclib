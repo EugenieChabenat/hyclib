{
 "cells": [
  {
   "cell_type": "code",
   "execution_count": 1,
   "id": "71c71206-566b-4beb-852f-a857d1c4455d",
   "metadata": {},
   "outputs": [],
   "source": [
    "%load_ext autoreload\n",
    "%autoreload 2"
   ]
  },
  {
   "cell_type": "code",
   "execution_count": 45,
   "id": "a2974770-a7fe-4b76-8f9c-5012836bec5b",
   "metadata": {},
   "outputs": [],
   "source": [
    "import json\n",
    "\n",
    "import torch\n",
    "\n",
    "import utils\n",
    "import utils.configurable as conf"
   ]
  },
  {
   "cell_type": "code",
   "execution_count": 112,
   "id": "c130defa-376d-4f51-8cef-16bcc85c6c56",
   "metadata": {
    "tags": []
   },
   "outputs": [
    {
     "name": "stdout",
     "output_type": "stream",
     "text": [
      "{'y': [1, 2], 'sub_module.a': [0, 1, 2.1], 'sub_module.x': 0}\n",
      "{'y': [1, 2], 'sub_module.a': [5.5, 1, 2.1], 'sub_module.x': 0}\n"
     ]
    }
   ],
   "source": [
    "class SubModule(conf.Configurable, torch.nn.Module):\n",
    "    def __init__(self):\n",
    "        super().__init__()\n",
    "        self.W = torch.nn.Parameter(torch.ones(2,2))\n",
    "        self.x = conf.Parameter(dtype=int)\n",
    "        self.a = conf.Parameter([0,1,2.1])\n",
    "        \n",
    "class Module(conf.Configurable, torch.nn.Module):\n",
    "    def __init__(self, y, z):\n",
    "        super().__init__()\n",
    "        self.sub_module = SubModule()\n",
    "        self.y = y\n",
    "        self.z = z\n",
    "\n",
    "m = Module(conf.Parameter([1,2]), torch.nn.Parameter(torch.zeros(2,2)))\n",
    "config_dict = m.config_dict()\n",
    "print(config_dict)\n",
    "config_dict['sub_module.a'][0] = 5.5\n",
    "m.load_config_dict(config_dict)\n",
    "config_dict = m.config_dict()\n",
    "print(config_dict)"
   ]
  },
  {
   "cell_type": "code",
   "execution_count": 99,
   "id": "8fc1ec6f-b983-41ee-92d2-c51ed14b017f",
   "metadata": {},
   "outputs": [
    {
     "name": "stdout",
     "output_type": "stream",
     "text": [
      "<class 'str'>\n"
     ]
    }
   ],
   "source": [
    "hi = '123'\n",
    "print(str)"
   ]
  },
  {
   "cell_type": "code",
   "execution_count": 67,
   "id": "fc1bc7db-ad45-4137-9818-5642a7af0e99",
   "metadata": {},
   "outputs": [
    {
     "ename": "InvalidConfigParameter",
     "evalue": "data 10 is not json serializable, try converting it to a compatible object type. If not possible, you can set is_jsonable=False, but then you can't save the config dict as json.",
     "output_type": "error",
     "traceback": [
      "\u001b[0;31m---------------------------------------------------------------------------\u001b[0m",
      "\u001b[0;31mInvalidConfigParameter\u001b[0m                    Traceback (most recent call last)",
      "\u001b[0;32m/tmp/ipykernel_17823/3937028849.py\u001b[0m in \u001b[0;36m<module>\u001b[0;34m\u001b[0m\n\u001b[0;32m----> 1\u001b[0;31m \u001b[0mhi\u001b[0m \u001b[0;34m=\u001b[0m \u001b[0mconf\u001b[0m\u001b[0;34m.\u001b[0m\u001b[0mParameter\u001b[0m\u001b[0;34m(\u001b[0m\u001b[0mtorch\u001b[0m\u001b[0;34m.\u001b[0m\u001b[0mtensor\u001b[0m\u001b[0;34m(\u001b[0m\u001b[0;36m10\u001b[0m\u001b[0;34m)\u001b[0m\u001b[0;34m)\u001b[0m\u001b[0;34m\u001b[0m\u001b[0;34m\u001b[0m\u001b[0m\n\u001b[0m\u001b[1;32m      2\u001b[0m \u001b[0mprint\u001b[0m\u001b[0;34m(\u001b[0m\u001b[0mhi\u001b[0m\u001b[0;34m.\u001b[0m\u001b[0mdata\u001b[0m\u001b[0;34m,\u001b[0m \u001b[0mhi\u001b[0m\u001b[0;34m.\u001b[0m\u001b[0mdtype\u001b[0m\u001b[0;34m)\u001b[0m\u001b[0;34m\u001b[0m\u001b[0;34m\u001b[0m\u001b[0m\n",
      "\u001b[0;32m/share/ctn/users/hc3190/utils/utils/configurable.py\u001b[0m in \u001b[0;36m__init__\u001b[0;34m(self, data, dtype, is_jsonable)\u001b[0m\n\u001b[1;32m     20\u001b[0m                 \u001b[0mjson\u001b[0m\u001b[0;34m.\u001b[0m\u001b[0mdumps\u001b[0m\u001b[0;34m(\u001b[0m\u001b[0mdata\u001b[0m\u001b[0;34m)\u001b[0m\u001b[0;34m\u001b[0m\u001b[0;34m\u001b[0m\u001b[0m\n\u001b[1;32m     21\u001b[0m             \u001b[0;32mexcept\u001b[0m \u001b[0;34m(\u001b[0m\u001b[0mTypeError\u001b[0m\u001b[0;34m,\u001b[0m \u001b[0mOverflowError\u001b[0m\u001b[0;34m)\u001b[0m\u001b[0;34m:\u001b[0m\u001b[0;34m\u001b[0m\u001b[0;34m\u001b[0m\u001b[0m\n\u001b[0;32m---> 22\u001b[0;31m                 raise exceptions.InvalidConfigParameter(f\"data {data} is not json serializable,\" \n\u001b[0m\u001b[1;32m     23\u001b[0m                                                         \u001b[0;34m\" try converting it to a compatible object type.\"\u001b[0m\u001b[0;34m\u001b[0m\u001b[0;34m\u001b[0m\u001b[0m\n\u001b[1;32m     24\u001b[0m                                                         \u001b[0;34m\" If not possible, you can set is_jsonable=False,\"\u001b[0m\u001b[0;34m\u001b[0m\u001b[0;34m\u001b[0m\u001b[0m\n",
      "\u001b[0;31mInvalidConfigParameter\u001b[0m: data 10 is not json serializable, try converting it to a compatible object type. If not possible, you can set is_jsonable=False, but then you can't save the config dict as json."
     ]
    }
   ],
   "source": [
    "hi = conf.Parameter(torch.tensor(10))\n",
    "print(hi.data, hi.dtype)"
   ]
  },
  {
   "cell_type": "code",
   "execution_count": 72,
   "id": "31f16180-5f3f-4c76-835c-04d4e859c3aa",
   "metadata": {},
   "outputs": [
    {
     "name": "stdout",
     "output_type": "stream",
     "text": [
      "OrderedDict([('x.weight', tensor([[ 0.5398, -0.6444],\n",
      "        [ 0.4426,  0.5372]])), ('x.bias', tensor([-0.1677, -0.0337]))])\n",
      "Parameter containing:\n",
      "tensor([[0.5398, 1.0000],\n",
      "        [0.4426, 0.5372]], requires_grad=True)\n",
      "Parameter containing:\n",
      "tensor([[0.5398, 1.0000],\n",
      "        [0.4426, 0.5372]], requires_grad=True)\n",
      "Parameter containing:\n",
      "tensor([[ 0.5398, -2.0000],\n",
      "        [ 0.4426,  0.5372]], requires_grad=True)\n"
     ]
    }
   ],
   "source": [
    "class Hi(torch.nn.Module):\n",
    "    def __init__(self):\n",
    "        super().__init__()\n",
    "        self.x = torch.nn.Linear(2,2)\n",
    "        \n",
    "hi = Hi()\n",
    "state_dict = hi.state_dict()\n",
    "print(state_dict)\n",
    "state_dict['x.weight'][0,1] = 1.0\n",
    "print(hi.x.weight)\n",
    "hi.load_state_dict(state_dict)\n",
    "print(hi.x.weight)\n",
    "state_dict['x.weight'][0,1] = -2.0\n",
    "print(hi.x.weight)"
   ]
  },
  {
   "cell_type": "code",
   "execution_count": 84,
   "id": "be29e833-4c2c-4822-8ea7-d8dcf7ac8d1d",
   "metadata": {},
   "outputs": [
    {
     "name": "stdout",
     "output_type": "stream",
     "text": [
      "True\n"
     ]
    }
   ],
   "source": [
    "hi = {'a': 1}\n",
    "print('a' in hi.keys())"
   ]
  },
  {
   "cell_type": "code",
   "execution_count": null,
   "id": "0c12218c-15f2-4a99-88b6-963c6d6e9da1",
   "metadata": {},
   "outputs": [],
   "source": []
  }
 ],
 "metadata": {
  "kernelspec": {
   "display_name": "Python [conda env:.conda-utils]",
   "language": "python",
   "name": "conda-env-.conda-utils-py"
  },
  "language_info": {
   "codemirror_mode": {
    "name": "ipython",
    "version": 3
   },
   "file_extension": ".py",
   "mimetype": "text/x-python",
   "name": "python",
   "nbconvert_exporter": "python",
   "pygments_lexer": "ipython3",
   "version": "3.9.7"
  }
 },
 "nbformat": 4,
 "nbformat_minor": 5
}
