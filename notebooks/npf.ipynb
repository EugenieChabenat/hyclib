{
 "cells": [
  {
   "cell_type": "code",
   "execution_count": 1,
   "id": "e2e96320-8da5-4b87-a7b3-dae7d553317a",
   "metadata": {},
   "outputs": [],
   "source": [
    "%load_ext autoreload\n",
    "%autoreload 2"
   ]
  },
  {
   "cell_type": "code",
   "execution_count": 5,
   "id": "72c24f4a-c683-4f17-8f44-5b75a7b28b0d",
   "metadata": {},
   "outputs": [],
   "source": [
    "import functools\n",
    "\n",
    "import numpy as np\n",
    "from numpy.polynomial import Polynomial\n",
    "\n",
    "import hyclib as lib"
   ]
  },
  {
   "cell_type": "code",
   "execution_count": 15,
   "id": "5cd5ac68-317c-42d1-8e5b-b9bd7c196583",
   "metadata": {},
   "outputs": [
    {
     "name": "stdout",
     "output_type": "stream",
     "text": [
      "4.0 + 102.0·x¹\n"
     ]
    }
   ],
   "source": [
    "@functools.partial(np.frompyfunc, nin=2, nout=1)\n",
    "def add(x, y):\n",
    "    return x + y\n",
    "\n",
    "x = np.array([3,100])\n",
    "y = Polynomial([1,2])\n",
    "print(x+y)"
   ]
  },
  {
   "cell_type": "code",
   "execution_count": 58,
   "id": "c33baa1f-5566-42d1-a731-484d7448af65",
   "metadata": {},
   "outputs": [
    {
     "name": "stdout",
     "output_type": "stream",
     "text": [
      "<class 'utils.npf.ndarray'>\n",
      "<class 'utils.npf.ndarray'>\n",
      "<class 'function'>\n",
      "npf.ndarray(shape=(), op_expr=f0)\n"
     ]
    },
    {
     "ename": "AttributeError",
     "evalue": "'ndarray' object has no attribute 'op_expr'",
     "output_type": "error",
     "traceback": [
      "\u001b[0;31m---------------------------------------------------------------------------\u001b[0m",
      "\u001b[0;31mAttributeError\u001b[0m                            Traceback (most recent call last)",
      "Cell \u001b[0;32mIn [58], line 14\u001b[0m\n\u001b[1;32m     12\u001b[0m \u001b[38;5;28mprint\u001b[39m(\u001b[38;5;28mtype\u001b[39m(res\u001b[38;5;241m.\u001b[39mitem()\u001b[38;5;241m.\u001b[39mitem()))\n\u001b[1;32m     13\u001b[0m \u001b[38;5;28mprint\u001b[39m(res\u001b[38;5;241m.\u001b[39mitem())\n\u001b[0;32m---> 14\u001b[0m \u001b[38;5;28;43mprint\u001b[39;49m\u001b[43m(\u001b[49m\u001b[43mutils\u001b[49m\u001b[38;5;241;43m.\u001b[39;49m\u001b[43mnpf\u001b[49m\u001b[38;5;241;43m.\u001b[39;49m\u001b[43mndarray\u001b[49m\u001b[43m(\u001b[49m\u001b[43mshape\u001b[49m\u001b[38;5;241;43m=\u001b[39;49m\u001b[43m(\u001b[49m\u001b[43m)\u001b[49m\u001b[43m)\u001b[49m\u001b[43m)\u001b[49m\n",
      "File \u001b[0;32m~/local_documents/research/utils/utils/npf.py:41\u001b[0m, in \u001b[0;36mndarray.__str__\u001b[0;34m(self)\u001b[0m\n\u001b[1;32m     40\u001b[0m \u001b[38;5;28;01mdef\u001b[39;00m \u001b[38;5;21m__str__\u001b[39m(\u001b[38;5;28mself\u001b[39m):\n\u001b[0;32m---> 41\u001b[0m     \u001b[38;5;28;01mreturn\u001b[39;00m \u001b[38;5;28;43mrepr\u001b[39;49m\u001b[43m(\u001b[49m\u001b[38;5;28;43mself\u001b[39;49m\u001b[43m)\u001b[49m\n",
      "File \u001b[0;32m~/local_documents/research/utils/utils/npf.py:37\u001b[0m, in \u001b[0;36mndarray.__repr__\u001b[0;34m(self)\u001b[0m\n\u001b[1;32m     36\u001b[0m \u001b[38;5;28;01mdef\u001b[39;00m \u001b[38;5;21m__repr__\u001b[39m(\u001b[38;5;28mself\u001b[39m):\n\u001b[0;32m---> 37\u001b[0m     op_expr \u001b[38;5;241m=\u001b[39m \u001b[38;5;28;43mself\u001b[39;49m\u001b[38;5;241;43m.\u001b[39;49m\u001b[43mop_expr\u001b[49m\u001b[38;5;241m.\u001b[39mformat(\u001b[38;5;241m*\u001b[39m[\u001b[38;5;124mf\u001b[39m\u001b[38;5;124m'\u001b[39m\u001b[38;5;124mf\u001b[39m\u001b[38;5;132;01m{\u001b[39;00mi\u001b[38;5;132;01m}\u001b[39;00m\u001b[38;5;124m'\u001b[39m \u001b[38;5;28;01mfor\u001b[39;00m i \u001b[38;5;129;01min\u001b[39;00m \u001b[38;5;28mrange\u001b[39m(\u001b[38;5;28mself\u001b[39m\u001b[38;5;241m.\u001b[39mop_expr\u001b[38;5;241m.\u001b[39mcount(\u001b[38;5;124m'\u001b[39m\u001b[38;5;132;01m{}\u001b[39;00m\u001b[38;5;124m'\u001b[39m))])\n\u001b[1;32m     38\u001b[0m     \u001b[38;5;28;01mreturn\u001b[39;00m \u001b[38;5;124mf\u001b[39m\u001b[38;5;124m\"\u001b[39m\u001b[38;5;124mnpf.ndarray(shape=\u001b[39m\u001b[38;5;132;01m{\u001b[39;00m\u001b[38;5;28mself\u001b[39m\u001b[38;5;241m.\u001b[39mshape\u001b[38;5;132;01m}\u001b[39;00m\u001b[38;5;124m, op_expr=\u001b[39m\u001b[38;5;132;01m{\u001b[39;00mop_expr\u001b[38;5;132;01m}\u001b[39;00m\u001b[38;5;124m)\u001b[39m\u001b[38;5;124m\"\u001b[39m\n",
      "\u001b[0;31mAttributeError\u001b[0m: 'ndarray' object has no attribute 'op_expr'"
     ]
    }
   ],
   "source": [
    "@functools.partial(np.vectorize, signature='(m,n)->()')\n",
    "def test(A):\n",
    "    res = lib.npf.array(lambda x: A.sum())\n",
    "    print(type(res))\n",
    "    return res\n",
    "\n",
    "\n",
    "\n",
    "A = np.array([[1,2],[3,4]])\n",
    "res = test(A)\n",
    "print(type(res))\n",
    "print(type(res.item().item()))\n",
    "print(res.item())\n",
    "print(lib.npf.ndarray(shape=()))"
   ]
  },
  {
   "cell_type": "code",
   "execution_count": 42,
   "id": "4e2dde24-5bf7-4f82-9acd-502221018af7",
   "metadata": {},
   "outputs": [
    {
     "name": "stdout",
     "output_type": "stream",
     "text": [
      "npf.ndarray(shape=(), op_expr=f0)\n",
      "<function <lambda> at 0x291a36dc0>\n",
      "npf.ndarray(shape=(2,), op_expr=f0)\n",
      "npf.ndarray(shape=(), op_expr=f0)\n",
      "npf.ndarray(shape=(), op_expr=f0)\n",
      "<function <lambda> at 0x291a75820>\n"
     ]
    }
   ],
   "source": [
    "A = lib.npf.array(lambda x: x)\n",
    "print(A)\n",
    "print(A.item())\n",
    "A = lib.npf.array([A,A])\n",
    "print(A)\n",
    "print(A[0])\n",
    "A = lib.npf.array(lambda x: x)\n",
    "A = lib.npf.array(A)\n",
    "print(A)\n",
    "print(A.item())"
   ]
  },
  {
   "cell_type": "code",
   "execution_count": 18,
   "id": "a8e24630-2a38-46f8-b145-325a06f2397b",
   "metadata": {},
   "outputs": [
    {
     "name": "stdout",
     "output_type": "stream",
     "text": [
      "[[[ 36.    41.  ]\n",
      "  [ 64.    73.  ]]\n",
      "\n",
      " [[ 81.    92.25]\n",
      "  [144.   164.25]]\n",
      "\n",
      " [[144.   164.  ]\n",
      "  [256.   292.  ]]]\n",
      "[-2.  -4.5 -8. ]\n",
      "[[[-2.5         1.5       ]\n",
      "  [ 2.         -1.        ]]\n",
      "\n",
      " [[-1.66666667  1.        ]\n",
      "  [ 1.33333333 -0.66666667]]\n",
      "\n",
      " [[-1.25        0.75      ]\n",
      "  [ 1.         -0.5       ]]]\n",
      "[ 7.  10.5 14. ]\n",
      "[[[ 36.    41.  ]\n",
      "  [ 64.    73.  ]]\n",
      "\n",
      " [[ 81.    92.25]\n",
      "  [144.   164.25]]\n",
      "\n",
      " [[144.   164.  ]\n",
      "  [256.   292.  ]]]\n",
      "[-2.  -4.5 -8. ]\n",
      "[[[-2.5         1.5       ]\n",
      "  [ 2.         -1.        ]]\n",
      "\n",
      " [[-1.66666667  1.        ]\n",
      "  [ 1.33333333 -0.66666667]]\n",
      "\n",
      " [[-1.25        0.75      ]\n",
      "  [ 1.         -0.5       ]]]\n",
      "[ 7.  10.5 14. ]\n"
     ]
    }
   ],
   "source": [
    "a = lib.npf.array([[lambda x: 2*x, lambda x: 3*x],[lambda x: 4*x, lambda x: 5*x]])\n",
    "b = lib.npf.array([[lambda x: 6*x, lambda x: 7*x],[lambda x: 8*x, lambda x: 9*x]])\n",
    "x = np.linspace(1,2,num=3)\n",
    "print((a @ b)(x))\n",
    "print(lib.npf.det(a)(x))\n",
    "# print(lib.npf.adj(a)(x))\n",
    "print(lib.npf.inv(a)(x))\n",
    "print(lib.npf.trace(a)(x))\n",
    "# c = a @ b\n",
    "# d = a + b\n",
    "# print(c(x))\n",
    "# print(d(x))\n",
    "# b[0,0] = lambda x: x\n",
    "# print(c(x))\n",
    "# print(d(x))\n",
    "a = a(x)\n",
    "b = b(x)\n",
    "print(a @ b)\n",
    "print(np.linalg.det(a))\n",
    "# print(np.linalg.inv(a)*np.linalg.det(a)[:,None,None])\n",
    "print(np.linalg.inv(a))\n",
    "print(np.trace(a, axis1=-2, axis2=-1))"
   ]
  },
  {
   "cell_type": "code",
   "execution_count": null,
   "id": "dc50723e-fd0f-47cf-8744-0a2522d4943d",
   "metadata": {},
   "outputs": [],
   "source": []
  }
 ],
 "metadata": {
  "kernelspec": {
   "display_name": "Python [conda env:utils]",
   "language": "python",
   "name": "conda-env-utils-py"
  },
  "language_info": {
   "codemirror_mode": {
    "name": "ipython",
    "version": 3
   },
   "file_extension": ".py",
   "mimetype": "text/x-python",
   "name": "python",
   "nbconvert_exporter": "python",
   "pygments_lexer": "ipython3",
   "version": "3.9.13"
  }
 },
 "nbformat": 4,
 "nbformat_minor": 5
}
