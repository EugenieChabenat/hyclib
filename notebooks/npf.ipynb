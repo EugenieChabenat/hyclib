{
 "cells": [
  {
   "cell_type": "code",
   "execution_count": 1,
   "id": "e2e96320-8da5-4b87-a7b3-dae7d553317a",
   "metadata": {},
   "outputs": [],
   "source": [
    "%load_ext autoreload\n",
    "%autoreload 2"
   ]
  },
  {
   "cell_type": "code",
   "execution_count": 2,
   "id": "72c24f4a-c683-4f17-8f44-5b75a7b28b0d",
   "metadata": {},
   "outputs": [],
   "source": [
    "import numpy as np\n",
    "\n",
    "import utils"
   ]
  },
  {
   "cell_type": "code",
   "execution_count": 18,
   "id": "a8e24630-2a38-46f8-b145-325a06f2397b",
   "metadata": {},
   "outputs": [
    {
     "name": "stdout",
     "output_type": "stream",
     "text": [
      "[[[ 36.    41.  ]\n",
      "  [ 64.    73.  ]]\n",
      "\n",
      " [[ 81.    92.25]\n",
      "  [144.   164.25]]\n",
      "\n",
      " [[144.   164.  ]\n",
      "  [256.   292.  ]]]\n",
      "[-2.  -4.5 -8. ]\n",
      "[[[-2.5         1.5       ]\n",
      "  [ 2.         -1.        ]]\n",
      "\n",
      " [[-1.66666667  1.        ]\n",
      "  [ 1.33333333 -0.66666667]]\n",
      "\n",
      " [[-1.25        0.75      ]\n",
      "  [ 1.         -0.5       ]]]\n",
      "[ 7.  10.5 14. ]\n",
      "[[[ 36.    41.  ]\n",
      "  [ 64.    73.  ]]\n",
      "\n",
      " [[ 81.    92.25]\n",
      "  [144.   164.25]]\n",
      "\n",
      " [[144.   164.  ]\n",
      "  [256.   292.  ]]]\n",
      "[-2.  -4.5 -8. ]\n",
      "[[[-2.5         1.5       ]\n",
      "  [ 2.         -1.        ]]\n",
      "\n",
      " [[-1.66666667  1.        ]\n",
      "  [ 1.33333333 -0.66666667]]\n",
      "\n",
      " [[-1.25        0.75      ]\n",
      "  [ 1.         -0.5       ]]]\n",
      "[ 7.  10.5 14. ]\n"
     ]
    }
   ],
   "source": [
    "a = utils.npf.array([[lambda x: 2*x, lambda x: 3*x],[lambda x: 4*x, lambda x: 5*x]])\n",
    "b = utils.npf.array([[lambda x: 6*x, lambda x: 7*x],[lambda x: 8*x, lambda x: 9*x]])\n",
    "x = np.linspace(1,2,num=3)\n",
    "print((a @ b)(x))\n",
    "print(utils.npf.det(a)(x))\n",
    "# print(utils.npf.adj(a)(x))\n",
    "print(utils.npf.inv(a)(x))\n",
    "print(utils.npf.trace(a)(x))\n",
    "# c = a @ b\n",
    "# d = a + b\n",
    "# print(c(x))\n",
    "# print(d(x))\n",
    "# b[0,0] = lambda x: x\n",
    "# print(c(x))\n",
    "# print(d(x))\n",
    "a = a(x)\n",
    "b = b(x)\n",
    "print(a @ b)\n",
    "print(np.linalg.det(a))\n",
    "# print(np.linalg.inv(a)*np.linalg.det(a)[:,None,None])\n",
    "print(np.linalg.inv(a))\n",
    "print(np.trace(a, axis1=-2, axis2=-1))"
   ]
  },
  {
   "cell_type": "code",
   "execution_count": null,
   "id": "dc50723e-fd0f-47cf-8744-0a2522d4943d",
   "metadata": {},
   "outputs": [],
   "source": []
  }
 ],
 "metadata": {
  "kernelspec": {
   "display_name": "Python [conda env:utils]",
   "language": "python",
   "name": "conda-env-utils-py"
  },
  "language_info": {
   "codemirror_mode": {
    "name": "ipython",
    "version": 3
   },
   "file_extension": ".py",
   "mimetype": "text/x-python",
   "name": "python",
   "nbconvert_exporter": "python",
   "pygments_lexer": "ipython3",
   "version": "3.9.13"
  }
 },
 "nbformat": 4,
 "nbformat_minor": 5
}
