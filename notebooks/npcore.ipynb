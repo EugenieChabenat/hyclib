{
 "cells": [
  {
   "cell_type": "code",
   "execution_count": 1,
   "id": "215da489-0c23-4e50-a8fe-9942ed03ec2c",
   "metadata": {},
   "outputs": [],
   "source": [
    "%load_ext autoreload\n",
    "%autoreload 2"
   ]
  },
  {
   "cell_type": "code",
   "execution_count": 2,
   "id": "d9ad023f-ab35-4046-b2e6-7af7dfc44981",
   "metadata": {},
   "outputs": [],
   "source": [
    "import numpy as np\n",
    "import matplotlib.pyplot as plt\n",
    "import seaborn as sns\n",
    "\n",
    "import utils"
   ]
  },
  {
   "cell_type": "code",
   "execution_count": 3,
   "id": "30782c33-afba-47c8-b6f9-5680a6d6191a",
   "metadata": {},
   "outputs": [],
   "source": [
    "a, b, c = np.random.normal(size=(3,5,2)), np.random.normal(size=(4,3)), np.random.normal(size=(5,7,2,4))\n",
    "a_, b_, c_ = utils.np.meshgrid_dd(a, b, c)\n",
    "assert a_.shape == (3,5,4,5,7,2,2) and b_.shape == (3,5,4,5,7,2,3) and c_.shape == (3,5,4,5,7,2,4)\n",
    "assert utils.np.isconst(a_, axis=(2,3,4,5)).all() and (a_[:,:,0,0,0,0,:] == a).all()\n",
    "assert utils.np.isconst(b_, axis=(0,1,3,4,5)).all() and (b_[0,0,:,0,0,0,:] == b).all()\n",
    "assert utils.np.isconst(c_, axis=(0,1,2)).all() and (c_[0,0,0,:,:,:,:] == c).all()"
   ]
  },
  {
   "cell_type": "code",
   "execution_count": 8,
   "id": "2b638d69-01c7-4070-8193-cd46b082d7d3",
   "metadata": {},
   "outputs": [],
   "source": [
    "a, b, c = np.random.normal(size=(3,5)), np.random.normal(size=(4,)), np.random.normal(size=(5,7,2))\n",
    "a_, b_, c_ = utils.np.meshgrid(a, b, c)\n",
    "assert a_.shape == (3,5,4,5,7,2) and b_.shape == (3,5,4,5,7,2) and c_.shape == (3,5,4,5,7,2)\n",
    "assert utils.np.isconst(a_, axis=(2,3,4,5)).all() and (a_[:,:,0,0,0,0] == a).all()\n",
    "assert utils.np.isconst(b_, axis=(0,1,3,4,5)).all() and (b_[0,0,:,0,0,0] == b).all()\n",
    "assert utils.np.isconst(c_, axis=(0,1,2)).all() and (c_[0,0,0,:,:,:] == c).all()"
   ]
  },
  {
   "cell_type": "code",
   "execution_count": 6,
   "id": "58a6ad0b-f6e4-4312-877f-65036dcaa53a",
   "metadata": {},
   "outputs": [
    {
     "name": "stdout",
     "output_type": "stream",
     "text": [
      "(3, 4, 5) (3, 4, 5)\n"
     ]
    }
   ],
   "source": [
    "a, b, c = np.random.normal(size=3), np.random.normal(size=4), np.random.normal(size=5)\n",
    "a1, b1, c1 = utils.np.meshgrid(a, b, c, indexing='ij')\n",
    "a2, b2, c2 = np.meshgrid(a, b, c, indexing='ij')\n",
    "print(a1.shape, a2.shape)\n",
    "np.testing.assert_allclose(a1, a2)\n",
    "np.testing.assert_allclose(b1, b2)\n",
    "np.testing.assert_allclose(c1, c2)"
   ]
  },
  {
   "cell_type": "code",
   "execution_count": null,
   "id": "d28e3398-2c3a-45b7-859e-540c689dfffa",
   "metadata": {},
   "outputs": [],
   "source": []
  }
 ],
 "metadata": {
  "kernelspec": {
   "display_name": "Python [conda env:utils]",
   "language": "python",
   "name": "conda-env-utils-py"
  },
  "language_info": {
   "codemirror_mode": {
    "name": "ipython",
    "version": 3
   },
   "file_extension": ".py",
   "mimetype": "text/x-python",
   "name": "python",
   "nbconvert_exporter": "python",
   "pygments_lexer": "ipython3",
   "version": "3.9.13"
  }
 },
 "nbformat": 4,
 "nbformat_minor": 5
}
