{
 "cells": [
  {
   "cell_type": "code",
   "execution_count": 1,
   "id": "ecdff94e-31aa-408a-83a6-20a8260e0f3e",
   "metadata": {},
   "outputs": [],
   "source": [
    "%load_ext autoreload\n",
    "%autoreload 2"
   ]
  },
  {
   "cell_type": "code",
   "execution_count": 2,
   "id": "9d1f1bbd-a88b-421f-aae0-575e06908d75",
   "metadata": {},
   "outputs": [],
   "source": [
    "import torch\n",
    "import numpy as np\n",
    "\n",
    "import utils"
   ]
  },
  {
   "cell_type": "code",
   "execution_count": 3,
   "id": "faa2c326-77ef-477d-924e-4c14fdc9a913",
   "metadata": {},
   "outputs": [
    {
     "name": "stdout",
     "output_type": "stream",
     "text": [
      "'a':\n",
      "    <class 'torch.Tensor'>\n",
      "'b':\n",
      "    'c':\n",
      "        <class 'numpy.ndarray'>\n",
      "    'd':\n",
      "        <class 'float'>\n"
     ]
    }
   ],
   "source": [
    "d = {'a': torch.Tensor([[1.0,2.0],[3.0,4.0]]), 'b': {'c': np.array([[1.0,2.0],[3.0,4.0]]), 'd': 10.0}}\n",
    "\n",
    "utils.pprint.pprint(d)"
   ]
  },
  {
   "cell_type": "code",
   "execution_count": 10,
   "id": "ebd0e864-b50b-4cce-93fc-05852188ac7d",
   "metadata": {},
   "outputs": [
    {
     "name": "stdout",
     "output_type": "stream",
     "text": [
      "'a':\n",
      "    tensor([[1., 2.],\n",
      "            [3., 4.]])\n",
      "'b':\n",
      "    'c':\n",
      "        [[1. 2.]\n",
      "         [3. 4.]]\n",
      "    'd':\n",
      "        10.0\n"
     ]
    }
   ],
   "source": [
    "string = \\\n",
    "\"\\\n",
    "'a':\\n\\\n",
    "    tensor([[1., 2.],\\n\\\n",
    "            [3., 4.]])\\n\\\n",
    "'b':\\n\\\n",
    "    'c':\\n\\\n",
    "        [[1. 2.]\\n\\\n",
    "         [3. 4.]]\\n\\\n",
    "    'd':\\n\\\n",
    "        10.0\\\n",
    "\"\n",
    "print(string)"
   ]
  },
  {
   "cell_type": "code",
   "execution_count": null,
   "id": "5d9066c5-c24f-4ff5-ae91-1b4de2af74ab",
   "metadata": {},
   "outputs": [],
   "source": []
  }
 ],
 "metadata": {
  "kernelspec": {
   "display_name": "Python [conda env:utils]",
   "language": "python",
   "name": "conda-env-utils-py"
  },
  "language_info": {
   "codemirror_mode": {
    "name": "ipython",
    "version": 3
   },
   "file_extension": ".py",
   "mimetype": "text/x-python",
   "name": "python",
   "nbconvert_exporter": "python",
   "pygments_lexer": "ipython3",
   "version": "3.9.13"
  }
 },
 "nbformat": 4,
 "nbformat_minor": 5
}
